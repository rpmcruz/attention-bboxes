{
 "cells": [
  {
   "cell_type": "code",
   "execution_count": 1,
   "metadata": {},
   "outputs": [],
   "source": [
    "import torch\n",
    "from model_bruno import *\n",
    "from torchvision import datasets, transforms\n",
    "from time import time\n",
    "from tqdm import tqdm \n",
    "\n",
    "device = 'cuda' if torch.cuda.is_available() else 'cpu'"
   ]
  },
  {
   "cell_type": "code",
   "execution_count": 2,
   "metadata": {},
   "outputs": [
    {
     "data": {
      "text/plain": [
       "AttModel(\n",
       "  (classifier): Linear(in_features=512, out_features=10, bias=True)\n",
       "  (act_class): Softmax(dim=1)\n",
       "  (backbone): AnchorBackbone(\n",
       "    (conv1): Conv2d(3, 128, kernel_size=(3, 3), stride=(2, 2))\n",
       "    (conv2): Conv2d(128, 256, kernel_size=(3, 3), stride=(2, 2))\n",
       "    (conv3): Conv2d(256, 512, kernel_size=(3, 3), stride=(2, 2))\n",
       "    (anchor0): Conv2d(512, 1024, kernel_size=(3, 3), stride=(1, 1))\n",
       "    (anchor1): Conv2d(512, 1024, kernel_size=(1, 1), stride=(1, 1))\n",
       "    (anchor2): Conv2d(512, 1024, kernel_size=(3, 1), stride=(1, 1))\n",
       "    (anchor3): Conv2d(512, 1024, kernel_size=(1, 3), stride=(1, 1))\n",
       "    (conv_act): ReLU()\n",
       "  )\n",
       "  (attention_head): AttentionHead(\n",
       "    (W1): Linear(in_features=1024, out_features=512, bias=True)\n",
       "    (Wa): Linear(in_features=256, out_features=1, bias=True)\n",
       "    (U): Linear(in_features=512, out_features=256, bias=True)\n",
       "    (V): Linear(in_features=512, out_features=256, bias=True)\n",
       "    (act_W1): ReLU()\n",
       "    (act_Wa): ReLU()\n",
       "    (act_U): Sigmoid()\n",
       "    (act_V): Tanh()\n",
       "  )\n",
       "  (attention_cluster): ClusterAttention(\n",
       "    (cluster): Conv2d(1, 1, kernel_size=(1, 512), stride=(1, 512))\n",
       "    (act_cluster): Softmax(dim=1)\n",
       "  )\n",
       ")"
      ]
     },
     "execution_count": 2,
     "metadata": {},
     "output_type": "execute_result"
    }
   ],
   "source": [
    "model = torch.load('trained_models/model100epochsLRe4.pt')\n",
    "model = model.to(device)\n",
    "model.eval() "
   ]
  },
  {
   "cell_type": "code",
   "execution_count": 3,
   "metadata": {},
   "outputs": [],
   "source": [
    "transformation = transforms.Compose([\n",
    "    transforms.ToTensor(),\n",
    "    transforms.RandomHorizontalFlip()      \n",
    "])\n",
    "\n",
    "STL10_set = datasets.STL10(root='C:/Users/Bruno/OneDrive/Documents/Datasets/STL10', split='test', transform=transformation, download=False)\n",
    "STL10_loader = torch.utils.data.DataLoader(STL10_set, batch_size=1, shuffle=True,  pin_memory=False)"
   ]
  },
  {
   "cell_type": "code",
   "execution_count": 4,
   "metadata": {},
   "outputs": [
    {
     "name": "stderr",
     "output_type": "stream",
     "text": [
      "100%|██████████| 8000/8000 [2:45:21<00:00,  1.24s/it]  "
     ]
    },
    {
     "name": "stdout",
     "output_type": "stream",
     "text": [
      "9922s - Avg acc: 0.6431012153625488\n"
     ]
    },
    {
     "name": "stderr",
     "output_type": "stream",
     "text": [
      "\n"
     ]
    }
   ],
   "source": [
    "tic = time()\n",
    "avg_acc = 0\n",
    "for x,y in tqdm(STL10_loader):\n",
    "    x = x.to(device)\n",
    "    y = y.to(device)\n",
    "\n",
    "    pred, _, _ = model(x)                \n",
    "    avg_acc += (y == pred.argmax(1)).float().mean() / len(STL10_loader)   \n",
    "\n",
    "toc = time()\n",
    "\n",
    "print(f'{toc-tic:.0f}s - Avg acc: {avg_acc}')"
   ]
  }
 ],
 "metadata": {
  "kernelspec": {
   "display_name": "pytorch",
   "language": "python",
   "name": "python3"
  },
  "language_info": {
   "codemirror_mode": {
    "name": "ipython",
    "version": 3
   },
   "file_extension": ".py",
   "mimetype": "text/x-python",
   "name": "python",
   "nbconvert_exporter": "python",
   "pygments_lexer": "ipython3",
   "version": "3.12.1"
  }
 },
 "nbformat": 4,
 "nbformat_minor": 2
}
