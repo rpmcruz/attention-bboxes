{
 "cells": [
  {
   "cell_type": "code",
   "execution_count": 1,
   "metadata": {},
   "outputs": [],
   "source": [
    "import torch\n",
    "import numpy as np\n",
    "from model_bruno import *\n",
    "from utils import *\n",
    "from itertools import compress"
   ]
  },
  {
   "cell_type": "code",
   "execution_count": 1,
   "metadata": {},
   "outputs": [],
   "source": [
    "import numpy as np"
   ]
  },
  {
   "cell_type": "code",
   "execution_count": 3,
   "metadata": {},
   "outputs": [],
   "source": [
    "a = np.array([1,3,2,4,5])\n",
    "a_str = np.array2string(a)"
   ]
  },
  {
   "cell_type": "code",
   "execution_count": 9,
   "metadata": {},
   "outputs": [],
   "source": [
    "values_str = []\n",
    "for value in a:\n",
    "    values_str.append(str(value))"
   ]
  },
  {
   "cell_type": "code",
   "execution_count": 10,
   "metadata": {},
   "outputs": [
    {
     "data": {
      "text/plain": [
       "['1', '3', '2', '4', '5']"
      ]
     },
     "execution_count": 10,
     "metadata": {},
     "output_type": "execute_result"
    }
   ],
   "source": [
    "values_str"
   ]
  },
  {
   "cell_type": "code",
   "execution_count": 2,
   "metadata": {},
   "outputs": [
    {
     "name": "stderr",
     "output_type": "stream",
     "text": [
      "c:\\Users\\bfons\\anaconda3\\envs\\torch\\Lib\\site-packages\\torch\\nn\\modules\\lazy.py:181: UserWarning: Lazy modules are a new feature under heavy development so changes to the API or functionality can happen at any moment.\n",
      "  warnings.warn('Lazy modules are a new feature under heavy development '\n"
     ]
    }
   ],
   "source": [
    "device = 'cuda' if torch.cuda.is_available() else 'cpu'\n",
    "\n",
    "img = torch.rand((1,3,96,96))\n",
    "img = img.to(device)\n",
    "\n",
    "model = AnchorBackbone()\n",
    "attention = AttentionHead()\n",
    "clustering = ClusterAttention()\n",
    "final_model = AttModel()"
   ]
  },
  {
   "cell_type": "code",
   "execution_count": 8,
   "metadata": {},
   "outputs": [],
   "source": [
    "model = model.to(device)\n",
    "attention = attention.to(device)\n",
    "clustering = clustering.to(device)\n",
    "final_model = final_model.to(device)"
   ]
  },
  {
   "cell_type": "code",
   "execution_count": 4,
   "metadata": {},
   "outputs": [],
   "source": [
    "a = model(img)"
   ]
  },
  {
   "cell_type": "code",
   "execution_count": 5,
   "metadata": {},
   "outputs": [],
   "source": [
    "feat,coords = feat_organizer(a)\n",
    "att, h = attention(feat)\n",
    "feat_clusters, proj_clusters = cluster_features(h, att, coords, num_clusters=10)"
   ]
  },
  {
   "cell_type": "code",
   "execution_count": 23,
   "metadata": {},
   "outputs": [
    {
     "data": {
      "text/plain": [
       "tensor([ 8.,  0., 17., 17.])"
      ]
     },
     "execution_count": 23,
     "metadata": {},
     "output_type": "execute_result"
    }
   ],
   "source": [
    "coords[9,:]"
   ]
  },
  {
   "cell_type": "code",
   "execution_count": 6,
   "metadata": {},
   "outputs": [],
   "source": [
    "att_clusters = clustering(feat_clusters)"
   ]
  },
  {
   "cell_type": "code",
   "execution_count": 9,
   "metadata": {},
   "outputs": [
    {
     "data": {
      "text/plain": [
       "(tensor([[-0.0439,  0.0095,  0.0368, -0.0092,  0.0370,  0.0041,  0.0278, -0.0171,\n",
       "          -0.0287,  0.0588]], device='cuda:0', grad_fn=<AddmmBackward0>),\n",
       " tensor([[[0.1020],\n",
       "          [0.0980],\n",
       "          [0.0989],\n",
       "          [0.1020],\n",
       "          [0.0967],\n",
       "          [0.1016],\n",
       "          [0.0992],\n",
       "          [0.1018],\n",
       "          [0.0979],\n",
       "          [0.1020]]], device='cuda:0', grad_fn=<SoftmaxBackward0>),\n",
       " tensor([[36.0008, 37.6772, 15.0000, 15.0000],\n",
       "         [29.4553, 48.3553, 17.0000, 15.0000],\n",
       "         [36.5936, 33.3076, 15.0000, 17.0000],\n",
       "         [37.9183, 35.2590, 15.0000, 15.0000],\n",
       "         [32.0013, 32.0005, 17.0000, 17.0000],\n",
       "         [44.8902, 35.1294, 15.0000, 15.0000],\n",
       "         [45.4833, 29.8984, 15.0000, 17.0000],\n",
       "         [40.0096, 46.9366, 15.0000, 15.0000],\n",
       "         [32.7313, 37.6101, 17.0000, 15.0000],\n",
       "         [41.7329, 44.5261, 15.0000, 15.0000]], device='cuda:0',\n",
       "        grad_fn=<ToCopyBackward0>))"
      ]
     },
     "execution_count": 9,
     "metadata": {},
     "output_type": "execute_result"
    }
   ],
   "source": [
    "final_model(img)"
   ]
  }
 ],
 "metadata": {
  "kernelspec": {
   "display_name": "pytorch",
   "language": "python",
   "name": "python3"
  },
  "language_info": {
   "codemirror_mode": {
    "name": "ipython",
    "version": 3
   },
   "file_extension": ".py",
   "mimetype": "text/x-python",
   "name": "python",
   "nbconvert_exporter": "python",
   "pygments_lexer": "ipython3",
   "version": "3.12.2"
  }
 },
 "nbformat": 4,
 "nbformat_minor": 2
}
