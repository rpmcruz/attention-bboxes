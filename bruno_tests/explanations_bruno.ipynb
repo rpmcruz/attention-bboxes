{
 "cells": [
  {
   "cell_type": "code",
   "execution_count": 1,
   "metadata": {},
   "outputs": [],
   "source": [
    "import torch\n",
    "from model_bruno import *\n",
    "from torchvision import datasets, transforms\n",
    "\n",
    "%matplotlib tk\n",
    "device = 'cuda' if torch.cuda.is_available() else 'cpu'"
   ]
  },
  {
   "cell_type": "code",
   "execution_count": 2,
   "metadata": {},
   "outputs": [],
   "source": [
    "transformation = transforms.Compose([\n",
    "    transforms.ToTensor(),\n",
    "    transforms.RandomHorizontalFlip()      \n",
    "])\n",
    "\n",
    "STL10_set = datasets.STL10(root='C:/Users/Bruno/OneDrive/Documents/Datasets/STL10', split='test', transform=transformation, download=False)\n",
    "STL10_loader = torch.utils.data.DataLoader(STL10_set, batch_size=1, shuffle=True,  pin_memory=False)"
   ]
  },
  {
   "cell_type": "code",
   "execution_count": 3,
   "metadata": {},
   "outputs": [
    {
     "data": {
      "text/plain": [
       "AttModel(\n",
       "  (classifier): Linear(in_features=512, out_features=10, bias=True)\n",
       "  (act_class): Softmax(dim=1)\n",
       "  (backbone): AnchorBackbone(\n",
       "    (conv1): Conv2d(3, 128, kernel_size=(3, 3), stride=(2, 2))\n",
       "    (conv2): Conv2d(128, 256, kernel_size=(3, 3), stride=(2, 2))\n",
       "    (conv3): Conv2d(256, 512, kernel_size=(3, 3), stride=(2, 2))\n",
       "    (anchor0): Conv2d(512, 1024, kernel_size=(3, 3), stride=(1, 1))\n",
       "    (anchor1): Conv2d(512, 1024, kernel_size=(1, 1), stride=(1, 1))\n",
       "    (anchor2): Conv2d(512, 1024, kernel_size=(3, 1), stride=(1, 1))\n",
       "    (anchor3): Conv2d(512, 1024, kernel_size=(1, 3), stride=(1, 1))\n",
       "    (conv_act): ReLU()\n",
       "  )\n",
       "  (attention_head): AttentionHead(\n",
       "    (W1): Linear(in_features=1024, out_features=512, bias=True)\n",
       "    (Wa): Linear(in_features=256, out_features=1, bias=True)\n",
       "    (U): Linear(in_features=512, out_features=256, bias=True)\n",
       "    (V): Linear(in_features=512, out_features=256, bias=True)\n",
       "    (act_W1): ReLU()\n",
       "    (act_Wa): ReLU()\n",
       "    (act_U): Sigmoid()\n",
       "    (act_V): Tanh()\n",
       "  )\n",
       "  (attention_cluster): ClusterAttention(\n",
       "    (cluster): Conv2d(1, 1, kernel_size=(1, 512), stride=(1, 512))\n",
       "    (act_cluster): Softmax(dim=1)\n",
       "  )\n",
       ")"
      ]
     },
     "execution_count": 3,
     "metadata": {},
     "output_type": "execute_result"
    }
   ],
   "source": [
    "model = torch.load('model100epochsLRe4.pt')\n",
    "model = model.to(device)\n",
    "model.eval() "
   ]
  },
  {
   "cell_type": "code",
   "execution_count": 6,
   "metadata": {},
   "outputs": [
    {
     "name": "stdout",
     "output_type": "stream",
     "text": [
      "Prediction: Truck -- True label: Airplane\n",
      "Prediction: Monkey -- True label: Monkey\n",
      "Prediction: Car -- True label: Car\n",
      "Prediction: Truck -- True label: Truck\n",
      "Prediction: Horse -- True label: Deer\n",
      "Prediction: Ship -- True label: Ship\n",
      "Prediction: Truck -- True label: Car\n",
      "Prediction: Deer -- True label: Bird\n",
      "Prediction: Truck -- True label: Truck\n",
      "Prediction: Ship -- True label: Ship\n",
      "Prediction: Monkey -- True label: Dog\n",
      "Prediction: Bird -- True label: Bird\n",
      "Prediction: Horse -- True label: Monkey\n",
      "Prediction: Ship -- True label: Ship\n",
      "Prediction: Airplane -- True label: Airplane\n",
      "Prediction: Car -- True label: Car\n",
      "Prediction: Dog -- True label: Dog\n",
      "Prediction: Airplane -- True label: Airplane\n",
      "Prediction: Airplane -- True label: Airplane\n",
      "Prediction: Dog -- True label: Bird\n",
      "Prediction: Cat -- True label: Cat\n",
      "Prediction: Car -- True label: Bird\n",
      "Prediction: Dog -- True label: Dog\n",
      "Prediction: Horse -- True label: Bird\n",
      "Prediction: Horse -- True label: Airplane\n",
      "Prediction: Airplane -- True label: Airplane\n",
      "Prediction: Dog -- True label: Dog\n",
      "Prediction: Horse -- True label: Dog\n",
      "Prediction: Airplane -- True label: Airplane\n",
      "Prediction: Monkey -- True label: Monkey\n",
      "Prediction: Dog -- True label: Monkey\n",
      "Prediction: Horse -- True label: Deer\n",
      "Prediction: Bird -- True label: Truck\n",
      "Prediction: Deer -- True label: Cat\n",
      "Prediction: Cat -- True label: Cat\n",
      "Prediction: Car -- True label: Car\n",
      "Prediction: Car -- True label: Car\n",
      "Prediction: Cat -- True label: Bird\n",
      "Prediction: Deer -- True label: Deer\n",
      "Prediction: Horse -- True label: Horse\n",
      "Prediction: Bird -- True label: Bird\n",
      "Prediction: Dog -- True label: Dog\n",
      "Prediction: Truck -- True label: Truck\n",
      "Prediction: Car -- True label: Car\n",
      "Prediction: Deer -- True label: Deer\n",
      "Prediction: Deer -- True label: Deer\n",
      "Prediction: Truck -- True label: Truck\n",
      "Prediction: Horse -- True label: Horse\n",
      "Prediction: Truck -- True label: Horse\n",
      "Prediction: Truck -- True label: Truck\n",
      "Prediction: Monkey -- True label: Deer\n",
      "Prediction: Airplane -- True label: Airplane\n",
      "Prediction: Horse -- True label: Horse\n",
      "Prediction: Ship -- True label: Ship\n",
      "Prediction: Dog -- True label: Monkey\n",
      "Prediction: Monkey -- True label: Monkey\n",
      "Prediction: Monkey -- True label: Monkey\n",
      "Prediction: Horse -- True label: Dog\n",
      "Prediction: Cat -- True label: Cat\n",
      "Prediction: Car -- True label: Airplane\n",
      "Prediction: Airplane -- True label: Airplane\n",
      "Prediction: Ship -- True label: Ship\n",
      "Prediction: Bird -- True label: Bird\n",
      "Prediction: Airplane -- True label: Airplane\n",
      "Prediction: Deer -- True label: Deer\n",
      "Prediction: Truck -- True label: Truck\n",
      "Prediction: Horse -- True label: Horse\n",
      "Prediction: Bird -- True label: Monkey\n",
      "Prediction: Ship -- True label: Ship\n",
      "Prediction: Airplane -- True label: Car\n",
      "Prediction: Cat -- True label: Cat\n",
      "Prediction: Airplane -- True label: Airplane\n",
      "Prediction: Car -- True label: Car\n",
      "Prediction: Airplane -- True label: Airplane\n",
      "Prediction: Dog -- True label: Horse\n",
      "Prediction: Truck -- True label: Ship\n",
      "Prediction: Dog -- True label: Monkey\n",
      "Prediction: Ship -- True label: Truck\n",
      "Prediction: Car -- True label: Car\n",
      "Prediction: Truck -- True label: Truck\n",
      "Prediction: Airplane -- True label: Car\n",
      "Prediction: Car -- True label: Car\n",
      "Prediction: Dog -- True label: Dog\n",
      "Prediction: Monkey -- True label: Dog\n",
      "Prediction: Cat -- True label: Monkey\n",
      "Prediction: Car -- True label: Airplane\n",
      "Prediction: Ship -- True label: Truck\n",
      "Prediction: Deer -- True label: Deer\n",
      "Prediction: Truck -- True label: Truck\n",
      "Prediction: Truck -- True label: Truck\n",
      "Prediction: Deer -- True label: Horse\n",
      "Prediction: Deer -- True label: Dog\n",
      "Prediction: Truck -- True label: Truck\n",
      "Prediction: Truck -- True label: Airplane\n",
      "Prediction: Cat -- True label: Monkey\n",
      "Prediction: Dog -- True label: Dog\n",
      "Prediction: Truck -- True label: Ship\n"
     ]
    },
    {
     "ename": "KeyboardInterrupt",
     "evalue": "",
     "output_type": "error",
     "traceback": [
      "\u001b[1;31m---------------------------------------------------------------------------\u001b[0m",
      "\u001b[1;31mKeyboardInterrupt\u001b[0m                         Traceback (most recent call last)",
      "Cell \u001b[1;32mIn[6], line 5\u001b[0m\n\u001b[0;32m      3\u001b[0m \u001b[38;5;28mprint\u001b[39m(\u001b[38;5;124m'\u001b[39m\u001b[38;5;124mPrediction:\u001b[39m\u001b[38;5;124m'\u001b[39m,decode_predictions(pred\u001b[38;5;241m.\u001b[39margmax(\u001b[38;5;241m1\u001b[39m)), \u001b[38;5;124m'\u001b[39m\u001b[38;5;124m-- True label:\u001b[39m\u001b[38;5;124m'\u001b[39m,decode_predictions(y))\n\u001b[0;32m      4\u001b[0m img \u001b[38;5;241m=\u001b[39m torch\u001b[38;5;241m.\u001b[39mnn\u001b[38;5;241m.\u001b[39mfunctional\u001b[38;5;241m.\u001b[39minterpolate(x, scale_factor\u001b[38;5;241m=\u001b[39m\u001b[38;5;241m4\u001b[39m)    \n\u001b[1;32m----> 5\u001b[0m \u001b[43mvisualize_boxes\u001b[49m\u001b[43m(\u001b[49m\u001b[43mimg\u001b[49m\u001b[38;5;241;43m=\u001b[39;49m\u001b[43mimg\u001b[49m\u001b[43m,\u001b[49m\u001b[43m \u001b[49m\u001b[43mbboxes\u001b[49m\u001b[38;5;241;43m=\u001b[39;49m\u001b[43mboxes\u001b[49m\u001b[38;5;241;43m*\u001b[39;49m\u001b[38;5;241;43m4\u001b[39;49m\u001b[43m,\u001b[49m\u001b[43m \u001b[49m\u001b[43matts\u001b[49m\u001b[38;5;241;43m=\u001b[39;49m\u001b[43matt\u001b[49m\u001b[43m,\u001b[49m\u001b[43m \u001b[49m\u001b[43mn_boxes\u001b[49m\u001b[38;5;241;43m=\u001b[39;49m\u001b[38;5;241;43m10\u001b[39;49m\u001b[43m)\u001b[49m\n",
      "File \u001b[1;32mc:\\Users\\Bruno\\OneDrive\\Documents\\FEUP\\Python Scripts\\Attention Boxes\\attention-bboxes\\bruno_tests\\utils.py:101\u001b[0m, in \u001b[0;36mvisualize_boxes\u001b[1;34m(img, bboxes, atts, n_boxes)\u001b[0m\n\u001b[0;32m     99\u001b[0m plt\u001b[38;5;241m.\u001b[39mimshow(PIL_image)\n\u001b[0;32m    100\u001b[0m plt\u001b[38;5;241m.\u001b[39mshow()\n\u001b[1;32m--> 101\u001b[0m \u001b[43mplt\u001b[49m\u001b[38;5;241;43m.\u001b[39;49m\u001b[43mwaitforbuttonpress\u001b[49m\u001b[43m(\u001b[49m\u001b[38;5;241;43m0\u001b[39;49m\u001b[43m)\u001b[49m\n\u001b[0;32m    102\u001b[0m plt\u001b[38;5;241m.\u001b[39mclose()\n",
      "File \u001b[1;32mc:\\Users\\Bruno\\miniconda3\\envs\\pytorch\\Lib\\site-packages\\matplotlib\\pyplot.py:2605\u001b[0m, in \u001b[0;36mwaitforbuttonpress\u001b[1;34m(timeout)\u001b[0m\n\u001b[0;32m   2603\u001b[0m \u001b[38;5;129m@_copy_docstring_and_deprecators\u001b[39m(Figure\u001b[38;5;241m.\u001b[39mwaitforbuttonpress)\n\u001b[0;32m   2604\u001b[0m \u001b[38;5;28;01mdef\u001b[39;00m \u001b[38;5;21mwaitforbuttonpress\u001b[39m(timeout: \u001b[38;5;28mfloat\u001b[39m \u001b[38;5;241m=\u001b[39m \u001b[38;5;241m-\u001b[39m\u001b[38;5;241m1\u001b[39m) \u001b[38;5;241m-\u001b[39m\u001b[38;5;241m>\u001b[39m \u001b[38;5;28;01mNone\u001b[39;00m \u001b[38;5;241m|\u001b[39m \u001b[38;5;28mbool\u001b[39m:\n\u001b[1;32m-> 2605\u001b[0m     \u001b[38;5;28;01mreturn\u001b[39;00m \u001b[43mgcf\u001b[49m\u001b[43m(\u001b[49m\u001b[43m)\u001b[49m\u001b[38;5;241;43m.\u001b[39;49m\u001b[43mwaitforbuttonpress\u001b[49m\u001b[43m(\u001b[49m\u001b[43mtimeout\u001b[49m\u001b[38;5;241;43m=\u001b[39;49m\u001b[43mtimeout\u001b[49m\u001b[43m)\u001b[49m\n",
      "File \u001b[1;32mc:\\Users\\Bruno\\miniconda3\\envs\\pytorch\\Lib\\site-packages\\matplotlib\\figure.py:3503\u001b[0m, in \u001b[0;36mFigure.waitforbuttonpress\u001b[1;34m(self, timeout)\u001b[0m\n\u001b[0;32m   3500\u001b[0m     event \u001b[38;5;241m=\u001b[39m ev\n\u001b[0;32m   3501\u001b[0m     \u001b[38;5;28mself\u001b[39m\u001b[38;5;241m.\u001b[39mcanvas\u001b[38;5;241m.\u001b[39mstop_event_loop()\n\u001b[1;32m-> 3503\u001b[0m \u001b[43m_blocking_input\u001b[49m\u001b[38;5;241;43m.\u001b[39;49m\u001b[43mblocking_input_loop\u001b[49m\u001b[43m(\u001b[49m\n\u001b[0;32m   3504\u001b[0m \u001b[43m    \u001b[49m\u001b[38;5;28;43mself\u001b[39;49m\u001b[43m,\u001b[49m\u001b[43m \u001b[49m\u001b[43m[\u001b[49m\u001b[38;5;124;43m\"\u001b[39;49m\u001b[38;5;124;43mbutton_press_event\u001b[39;49m\u001b[38;5;124;43m\"\u001b[39;49m\u001b[43m,\u001b[49m\u001b[43m \u001b[49m\u001b[38;5;124;43m\"\u001b[39;49m\u001b[38;5;124;43mkey_press_event\u001b[39;49m\u001b[38;5;124;43m\"\u001b[39;49m\u001b[43m]\u001b[49m\u001b[43m,\u001b[49m\u001b[43m \u001b[49m\u001b[43mtimeout\u001b[49m\u001b[43m,\u001b[49m\u001b[43m \u001b[49m\u001b[43mhandler\u001b[49m\u001b[43m)\u001b[49m\n\u001b[0;32m   3506\u001b[0m \u001b[38;5;28;01mreturn\u001b[39;00m \u001b[38;5;28;01mNone\u001b[39;00m \u001b[38;5;28;01mif\u001b[39;00m event \u001b[38;5;129;01mis\u001b[39;00m \u001b[38;5;28;01mNone\u001b[39;00m \u001b[38;5;28;01melse\u001b[39;00m event\u001b[38;5;241m.\u001b[39mname \u001b[38;5;241m==\u001b[39m \u001b[38;5;124m\"\u001b[39m\u001b[38;5;124mkey_press_event\u001b[39m\u001b[38;5;124m\"\u001b[39m\n",
      "File \u001b[1;32mc:\\Users\\Bruno\\miniconda3\\envs\\pytorch\\Lib\\site-packages\\matplotlib\\_blocking_input.py:26\u001b[0m, in \u001b[0;36mblocking_input_loop\u001b[1;34m(figure, event_names, timeout, handler)\u001b[0m\n\u001b[0;32m     24\u001b[0m cids \u001b[38;5;241m=\u001b[39m [figure\u001b[38;5;241m.\u001b[39mcanvas\u001b[38;5;241m.\u001b[39mmpl_connect(name, handler) \u001b[38;5;28;01mfor\u001b[39;00m name \u001b[38;5;129;01min\u001b[39;00m event_names]\n\u001b[0;32m     25\u001b[0m \u001b[38;5;28;01mtry\u001b[39;00m:\n\u001b[1;32m---> 26\u001b[0m     \u001b[43mfigure\u001b[49m\u001b[38;5;241;43m.\u001b[39;49m\u001b[43mcanvas\u001b[49m\u001b[38;5;241;43m.\u001b[39;49m\u001b[43mstart_event_loop\u001b[49m\u001b[43m(\u001b[49m\u001b[43mtimeout\u001b[49m\u001b[43m)\u001b[49m  \u001b[38;5;66;03m# Start event loop.\u001b[39;00m\n\u001b[0;32m     27\u001b[0m \u001b[38;5;28;01mfinally\u001b[39;00m:  \u001b[38;5;66;03m# Run even on exception like ctrl-c.\u001b[39;00m\n\u001b[0;32m     28\u001b[0m     \u001b[38;5;66;03m# Disconnect the callbacks.\u001b[39;00m\n\u001b[0;32m     29\u001b[0m     \u001b[38;5;28;01mfor\u001b[39;00m cid \u001b[38;5;129;01min\u001b[39;00m cids:\n",
      "File \u001b[1;32mc:\\Users\\Bruno\\miniconda3\\envs\\pytorch\\Lib\\site-packages\\matplotlib\\backends\\_backend_tk.py:426\u001b[0m, in \u001b[0;36mFigureCanvasTk.start_event_loop\u001b[1;34m(self, timeout)\u001b[0m\n\u001b[0;32m    423\u001b[0m     \u001b[38;5;28;01melse\u001b[39;00m:\n\u001b[0;32m    424\u001b[0m         \u001b[38;5;28mself\u001b[39m\u001b[38;5;241m.\u001b[39m_event_loop_id \u001b[38;5;241m=\u001b[39m \u001b[38;5;28mself\u001b[39m\u001b[38;5;241m.\u001b[39m_tkcanvas\u001b[38;5;241m.\u001b[39mafter_idle(\n\u001b[0;32m    425\u001b[0m             \u001b[38;5;28mself\u001b[39m\u001b[38;5;241m.\u001b[39mstop_event_loop)\n\u001b[1;32m--> 426\u001b[0m \u001b[38;5;28;43mself\u001b[39;49m\u001b[38;5;241;43m.\u001b[39;49m\u001b[43m_tkcanvas\u001b[49m\u001b[38;5;241;43m.\u001b[39;49m\u001b[43mmainloop\u001b[49m\u001b[43m(\u001b[49m\u001b[43m)\u001b[49m\n",
      "File \u001b[1;32mc:\\Users\\Bruno\\miniconda3\\envs\\pytorch\\Lib\\tkinter\\__init__.py:1499\u001b[0m, in \u001b[0;36mMisc.mainloop\u001b[1;34m(self, n)\u001b[0m\n\u001b[0;32m   1497\u001b[0m \u001b[38;5;28;01mdef\u001b[39;00m \u001b[38;5;21mmainloop\u001b[39m(\u001b[38;5;28mself\u001b[39m, n\u001b[38;5;241m=\u001b[39m\u001b[38;5;241m0\u001b[39m):\n\u001b[0;32m   1498\u001b[0m \u001b[38;5;250m    \u001b[39m\u001b[38;5;124;03m\"\"\"Call the mainloop of Tk.\"\"\"\u001b[39;00m\n\u001b[1;32m-> 1499\u001b[0m     \u001b[38;5;28;43mself\u001b[39;49m\u001b[38;5;241;43m.\u001b[39;49m\u001b[43mtk\u001b[49m\u001b[38;5;241;43m.\u001b[39;49m\u001b[43mmainloop\u001b[49m\u001b[43m(\u001b[49m\u001b[43mn\u001b[49m\u001b[43m)\u001b[49m\n",
      "\u001b[1;31mKeyboardInterrupt\u001b[0m: "
     ]
    }
   ],
   "source": [
    "for x,y in STL10_loader:\n",
    "    pred, att, boxes = model(x)    \n",
    "    print('Prediction:',decode_predictions(pred.argmax(1)), '-- True label:',decode_predictions(y))\n",
    "    img = torch.nn.functional.interpolate(x, scale_factor=4)    \n",
    "    visualize_boxes(img=img, bboxes=boxes*4, atts=att, n_boxes=10)\n",
    "        "
   ]
  }
 ],
 "metadata": {
  "kernelspec": {
   "display_name": "pytorch",
   "language": "python",
   "name": "python3"
  },
  "language_info": {
   "codemirror_mode": {
    "name": "ipython",
    "version": 3
   },
   "file_extension": ".py",
   "mimetype": "text/x-python",
   "name": "python",
   "nbconvert_exporter": "python",
   "pygments_lexer": "ipython3",
   "version": "3.12.1"
  }
 },
 "nbformat": 4,
 "nbformat_minor": 2
}
