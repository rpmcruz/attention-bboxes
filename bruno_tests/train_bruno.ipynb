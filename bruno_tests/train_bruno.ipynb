{
 "cells": [
  {
   "cell_type": "code",
   "execution_count": 1,
   "metadata": {},
   "outputs": [],
   "source": [
    "import torch\n",
    "import torchvision\n",
    "\n",
    "from torchvision.transforms import v2\n",
    "from model_bruno import *\n",
    "from utils import *\n",
    "from time import time\n",
    "\n",
    "device = 'cuda' if torch.cuda.is_available() else 'cpu'"
   ]
  },
  {
   "cell_type": "code",
   "execution_count": 2,
   "metadata": {},
   "outputs": [],
   "source": [
    "transforms = v2.Compose([\n",
    "    v2.ToImage(),\n",
    "    v2.RandomHorizontalFlip(),\n",
    "    v2.ColorJitter(25, 25),\n",
    "    v2.ToDtype(torch.float32, True),\n",
    "])\n",
    "\n",
    "STL10_set = torchvision.datasets.STL10(root='C:/Users/Bruno/OneDrive/Documents/Datasets/STL10', split='train', transform=transforms, download=False)\n",
    "STL10_loader = torch.utils.data.DataLoader(STL10_set, batch_size=1, shuffle=True,  pin_memory=False)"
   ]
  },
  {
   "cell_type": "code",
   "execution_count": 3,
   "metadata": {},
   "outputs": [
    {
     "name": "stderr",
     "output_type": "stream",
     "text": [
      "c:\\Users\\Bruno\\miniconda3\\envs\\pytorch\\Lib\\site-packages\\torch\\nn\\modules\\lazy.py:181: UserWarning: Lazy modules are a new feature under heavy development so changes to the API or functionality can happen at any moment.\n",
      "  warnings.warn('Lazy modules are a new feature under heavy development '\n"
     ]
    }
   ],
   "source": [
    "num_epochs = 3\n",
    "num_clusters = 10\n",
    "num_classes = 10\n",
    "area_penalty = False\n",
    "\n",
    "model = AttModel(n_classes=num_classes, n_clusters=num_clusters)\n",
    "model = model.to(device)\n",
    "opt = torch.optim.Adam(model.parameters(), 1e-4)\n",
    "criterion = nn.CrossEntropyLoss()"
   ]
  },
  {
   "cell_type": "code",
   "execution_count": 4,
   "metadata": {},
   "outputs": [
    {
     "name": "stdout",
     "output_type": "stream",
     "text": [
      "Epoch 1/3 - 5729s - Avg loss: 2.3600441992045957 - Avg acc: 0.09940053522586823\n",
      "Epoch 2/3 - 5667s - Avg loss: 2.361086360502395 - Avg acc: 0.1000005453824997\n",
      "Epoch 3/3 - 5357s - Avg loss: 2.361150169372711 - Avg acc: 0.1000005453824997\n"
     ]
    }
   ],
   "source": [
    "model.train()\n",
    "for epoch in range(num_epochs):\n",
    "    tic = time()\n",
    "    avg_loss = 0\n",
    "    avg_acc = 0\n",
    "    for x,y in STL10_loader:\n",
    "        x = x.to(device)\n",
    "        y = y.to(device)\n",
    "\n",
    "        pred, _, _ = model(x)\n",
    "        loss = criterion(pred.view(1,-1),y)\n",
    "\n",
    "        # if area_penalty:\n",
    "        #     loss += torch.sum((bboxes[:,-1]*bboxes[:,-2]))/num_clusters**2\n",
    "\n",
    "        opt.zero_grad()\n",
    "        loss.backward(retain_graph=False)\n",
    "        opt.step()\n",
    "        \n",
    "        avg_loss += float(loss) / len(STL10_loader)\n",
    "        avg_acc += (y == pred.argmax(1)).float().mean() / len(STL10_loader)   \n",
    "    \n",
    "    toc = time()\n",
    "    \n",
    "    print(f'Epoch {epoch+1}/{num_epochs} - {toc-tic:.0f}s - Avg loss: {avg_loss} - Avg acc: {avg_acc}')"
   ]
  },
  {
   "cell_type": "markdown",
   "metadata": {},
   "source": [
    "The model appears to not converge. Maybe replace Sigmoid activations for ReLU. It is still only working with batch_size = 1. Also need to evaluate the learning rate and which features should be used for clustering."
   ]
  }
 ],
 "metadata": {
  "kernelspec": {
   "display_name": "pytorch",
   "language": "python",
   "name": "python3"
  },
  "language_info": {
   "codemirror_mode": {
    "name": "ipython",
    "version": 3
   },
   "file_extension": ".py",
   "mimetype": "text/x-python",
   "name": "python",
   "nbconvert_exporter": "python",
   "pygments_lexer": "ipython3",
   "version": "3.12.1"
  }
 },
 "nbformat": 4,
 "nbformat_minor": 2
}
