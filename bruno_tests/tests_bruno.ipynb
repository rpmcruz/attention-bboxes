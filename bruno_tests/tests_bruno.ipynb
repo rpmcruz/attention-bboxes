{
 "cells": [
  {
   "cell_type": "code",
   "execution_count": 1,
   "metadata": {},
   "outputs": [],
   "source": [
    "import torch\n",
    "import numpy as np\n",
    "from model_bruno import *\n",
    "from utils import *\n",
    "from itertools import compress"
   ]
  },
  {
   "cell_type": "code",
   "execution_count": 14,
   "metadata": {},
   "outputs": [
    {
     "name": "stderr",
     "output_type": "stream",
     "text": [
      "c:\\Users\\Bruno\\miniconda3\\envs\\pytorch\\Lib\\site-packages\\torch\\nn\\modules\\lazy.py:181: UserWarning: Lazy modules are a new feature under heavy development so changes to the API or functionality can happen at any moment.\n",
      "  warnings.warn('Lazy modules are a new feature under heavy development '\n"
     ]
    }
   ],
   "source": [
    "img = torch.rand((1,3,96,96))\n",
    "model = AnchorBackbone()\n",
    "attention = AttentionHead()\n",
    "clustering = ClusterAttention()\n",
    "final_model = AttModel()"
   ]
  },
  {
   "cell_type": "code",
   "execution_count": 17,
   "metadata": {},
   "outputs": [],
   "source": [
    "a = model(img)"
   ]
  },
  {
   "cell_type": "code",
   "execution_count": 18,
   "metadata": {},
   "outputs": [],
   "source": [
    "feat,coords = feat_organizer(a)\n",
    "att, h = attention(feat)\n",
    "feat_clusters, proj_clusters = cluster_features(h, att, coords, num_clusters=10)"
   ]
  },
  {
   "cell_type": "code",
   "execution_count": 23,
   "metadata": {},
   "outputs": [
    {
     "data": {
      "text/plain": [
       "tensor([ 8.,  0., 17., 17.])"
      ]
     },
     "execution_count": 23,
     "metadata": {},
     "output_type": "execute_result"
    }
   ],
   "source": [
    "coords[9,:]"
   ]
  },
  {
   "cell_type": "code",
   "execution_count": 6,
   "metadata": {},
   "outputs": [],
   "source": [
    "att_clusters = clustering(feat_clusters)"
   ]
  },
  {
   "cell_type": "code",
   "execution_count": 3,
   "metadata": {},
   "outputs": [
    {
     "name": "stdout",
     "output_type": "stream",
     "text": [
      "Full batch converged at iteration 7/100 with center shifts = tensor([0.]).\n"
     ]
    },
    {
     "data": {
      "text/plain": [
       "(tensor([[0.1048, 0.1007, 0.0962, 0.0986, 0.1010, 0.0977, 0.1005, 0.0994, 0.1002,\n",
       "          0.1010]], grad_fn=<SoftmaxBackward0>),\n",
       " tensor([[[0.1004],\n",
       "          [0.0996],\n",
       "          [0.1000],\n",
       "          [0.0995],\n",
       "          [0.1006],\n",
       "          [0.1004],\n",
       "          [0.0997],\n",
       "          [0.0998],\n",
       "          [0.1001],\n",
       "          [0.0998]]], grad_fn=<SoftmaxBackward0>),\n",
       " tensor([[37.4742, 37.6154, 15.0000, 15.0000],\n",
       "         [30.2243, 42.8157, 17.0000, 15.0000],\n",
       "         [42.1828, 34.1838, 17.0000, 17.0000],\n",
       "         [34.1328, 36.6230, 17.0000, 15.0000],\n",
       "         [40.1674, 41.7017, 15.0000, 15.0000],\n",
       "         [47.9973, 43.2918, 15.0000, 15.0000],\n",
       "         [30.0968, 29.3327, 17.0000, 17.0000],\n",
       "         [40.8359, 33.0722, 15.0000, 17.0000],\n",
       "         [38.2533, 29.7516, 15.0000, 17.0000],\n",
       "         [30.8549, 35.1416, 17.0000, 17.0000]], grad_fn=<CopySlices>))"
      ]
     },
     "execution_count": 3,
     "metadata": {},
     "output_type": "execute_result"
    }
   ],
   "source": [
    "final_model(img)"
   ]
  }
 ],
 "metadata": {
  "kernelspec": {
   "display_name": "pytorch",
   "language": "python",
   "name": "python3"
  },
  "language_info": {
   "codemirror_mode": {
    "name": "ipython",
    "version": 3
   },
   "file_extension": ".py",
   "mimetype": "text/x-python",
   "name": "python",
   "nbconvert_exporter": "python",
   "pygments_lexer": "ipython3",
   "version": "3.12.1"
  }
 },
 "nbformat": 4,
 "nbformat_minor": 2
}
